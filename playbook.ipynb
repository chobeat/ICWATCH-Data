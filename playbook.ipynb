{
 "cells": [
  {
   "cell_type": "code",
   "execution_count": 1,
   "metadata": {},
   "outputs": [],
   "source": [
    "import pandas as pd\n",
    "import json\n",
    "import glob\n",
    "from itertools import groupby\n",
    "from datetime import datetime\n",
    "from IPython.core.debugger import set_trace"
   ]
  },
  {
   "cell_type": "code",
   "execution_count": 2,
   "metadata": {},
   "outputs": [],
   "source": [
    "def load_all_json(limit_file=3):\n",
    "    \n",
    "    return [entry for d in [glob.glob(\"data/original_run/*.json\"), glob.glob(\"data/second_set/*.json\")]for filename in d[:limit_file] for entry in json.load(open(filename))]\n",
    "     "
   ]
  },
  {
   "cell_type": "code",
   "execution_count": 23,
   "metadata": {},
   "outputs": [],
   "source": [
    "RELEVANT_FIELDS = [\"start_date\",\"end_date\",\"name\",\"company\",\"description\",\"industry\"]\n",
    "\n",
    "def prepare_entry(entry):\n",
    "    if entry[\"start_date\"] and entry[\"end_date\"]: \n",
    "        try:\n",
    "            entry[\"start_date\"] =datetime.strptime(entry[\"start_date\"],'%Y-%m-%d').date()\n",
    "            entry[\"end_date\"] = datetime.strptime(entry[\"end_date\"],'%Y-%m-%d').date()\n",
    "            return {k:v for k,v in entry.iteritems() if k in RELEVANT_FIELDS}\n",
    "        except Exception as e:\n",
    "            print(e)\n",
    "            return None\n",
    "    else:\n",
    "        return None\n",
    "\n",
    "def prepare_data(entries):\n",
    "    return [entry for entry in entries if prepare_entry(entry)]\n",
    "        \n",
    "def group_by_name(entries):\n",
    "    entries=sorted(data, key=lambda x:x[\"name\"])\n",
    "    return groupby(entries,lambda x:x[\"name\"])\n",
    "\n",
    "def group_job_by_industry(jobs):\n",
    "    \n",
    "    sorted_jobs = sorted(jobs)\n",
    "    jobs_in_industry = []\n",
    "    curr_industry = [sorted_jobs[0]]\n",
    "    for job in sorted_jobs[1:]:\n",
    "        if job[\"industry\"] == curr_industry[0][\"industry\"]:\n",
    "            curr_industry.append(job)\n",
    "        else:\n",
    "            jobs_in_industry.append([curr_industry[0][\"industry\"],curr_industry])\n",
    "            curr_industry =[job]\n",
    "    \n",
    "    jobs_in_industry.append( curr_industry[0][\"industry\"])\n",
    "    \n",
    "    return jobs_in_industry\n",
    "\n",
    "def add_job_durations(person):\n",
    "    res = []\n",
    "    for job in person:\n",
    "        if job[\"start_date\"] and job[\"end_date\"]:\n",
    "            duration = (job[\"end_date\"] - job[\"start_date\"]).days\n",
    "        else:\n",
    "            duration = -1\n",
    "            \n",
    "        job[\"duration\"] = duration\n",
    "    \n",
    "    return person\n",
    "\n",
    "def process_persons(persons):\n",
    "    \n",
    "    grouped_jobs_all = {}\n",
    "    for person in persons:\n",
    "        name, job_list = person\n",
    "        job_list = list(job_list)\n",
    "        person = add_job_durations(job_list)\n",
    "        grouped_jobs = group_job_by_industry(job_list)\n",
    "        grouped_jobs_all[name] = grouped_jobs\n",
    "        \n",
    "    return grouped_jobs_all\n",
    "    \n",
    "    "
   ]
  },
  {
   "cell_type": "code",
   "execution_count": 24,
   "metadata": {},
   "outputs": [],
   "source": [
    "data= load_all_json()\n"
   ]
  },
  {
   "cell_type": "code",
   "execution_count": 25,
   "metadata": {},
   "outputs": [],
   "source": [
    "prepared_data = prepare_data(data)"
   ]
  },
  {
   "cell_type": "code",
   "execution_count": null,
   "metadata": {},
   "outputs": [],
   "source": []
  },
  {
   "cell_type": "code",
   "execution_count": 26,
   "metadata": {},
   "outputs": [],
   "source": [
    "grouped_data = group_by_name(prepare_data)"
   ]
  },
  {
   "cell_type": "code",
   "execution_count": 27,
   "metadata": {},
   "outputs": [],
   "source": [
    "processed_persons=process_persons(grouped_data)"
   ]
  },
  {
   "cell_type": "code",
   "execution_count": 30,
   "metadata": {},
   "outputs": [
    {
     "data": {
      "text/plain": [
       "(u'James Groff', [u'Defense & Space'])"
      ]
     },
     "execution_count": 30,
     "metadata": {},
     "output_type": "execute_result"
    }
   ],
   "source": [
    "processed_persons.items()[0]"
   ]
  },
  {
   "cell_type": "code",
   "execution_count": null,
   "metadata": {},
   "outputs": [],
   "source": []
  },
  {
   "cell_type": "code",
   "execution_count": null,
   "metadata": {},
   "outputs": [],
   "source": []
  }
 ],
 "metadata": {
  "kernelspec": {
   "display_name": "Python 2",
   "language": "python",
   "name": "python2"
  },
  "language_info": {
   "codemirror_mode": {
    "name": "ipython",
    "version": 2
   },
   "file_extension": ".py",
   "mimetype": "text/x-python",
   "name": "python",
   "nbconvert_exporter": "python",
   "pygments_lexer": "ipython2",
   "version": "2.7.12"
  }
 },
 "nbformat": 4,
 "nbformat_minor": 2
}
